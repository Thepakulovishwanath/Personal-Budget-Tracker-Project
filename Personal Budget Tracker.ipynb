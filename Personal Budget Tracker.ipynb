{
 "cells": [
  {
   "cell_type": "markdown",
   "id": "90af30af-62df-44d6-9f29-76b0af87cd2f",
   "metadata": {},
   "source": [
    "#Personal Budget Tracker:"
   ]
  },
  {
   "cell_type": "code",
   "execution_count": 3,
   "id": "ece66f87-51ef-4e0a-8245-b0637d611c65",
   "metadata": {},
   "outputs": [],
   "source": [
    "#Personal Budget Tracker: Develop a budget tracking program that saves \n",
    "#income and expenses to a CSV file and calculates the user’s monthly savings."
   ]
  },
  {
   "cell_type": "code",
   "execution_count": 1,
   "id": "d7c35788-0e2e-43e8-a5fe-fff2f57c70a7",
   "metadata": {},
   "outputs": [
    {
     "name": "stdout",
     "output_type": "stream",
     "text": [
      "\n",
      "--- Expense Tracker ---\n",
      "1: To add Expenses\n",
      "2: To View Savings\n",
      "3: To View Expenses\n",
      "0: To Exit\n"
     ]
    },
    {
     "name": "stdin",
     "output_type": "stream",
     "text": [
      "Choose a Number:  1\n",
      "Enter date (YYYY-MM-DD):  2024-10-20\n",
      "Enter your Expenses:  Food\n"
     ]
    },
    {
     "name": "stdout",
     "output_type": "stream",
     "text": [
      "Please enter a valid number for expenses.\n",
      "\n",
      "--- Expense Tracker ---\n",
      "1: To add Expenses\n",
      "2: To View Savings\n",
      "3: To View Expenses\n",
      "0: To Exit\n"
     ]
    },
    {
     "name": "stdin",
     "output_type": "stream",
     "text": [
      "Choose a Number:  2\n"
     ]
    },
    {
     "name": "stdout",
     "output_type": "stream",
     "text": [
      "Fixed Income: 50000\n",
      "Total Expenses: 0\n",
      "Remaining Savings: 50000\n",
      "\n",
      "--- Expense Tracker ---\n",
      "1: To add Expenses\n",
      "2: To View Savings\n",
      "3: To View Expenses\n",
      "0: To Exit\n"
     ]
    },
    {
     "name": "stdin",
     "output_type": "stream",
     "text": [
      "Choose a Number:  1\n",
      "Enter date (YYYY-MM-DD):  2024-20-20\n",
      "Enter your Expenses:  1000\n",
      "Enter the description:  Food\n"
     ]
    },
    {
     "name": "stdout",
     "output_type": "stream",
     "text": [
      "Expense added successfully!\n",
      "\n",
      "--- Expense Tracker ---\n",
      "1: To add Expenses\n",
      "2: To View Savings\n",
      "3: To View Expenses\n",
      "0: To Exit\n"
     ]
    },
    {
     "name": "stdin",
     "output_type": "stream",
     "text": [
      "Choose a Number:  2\n"
     ]
    },
    {
     "name": "stdout",
     "output_type": "stream",
     "text": [
      "Fixed Income: 50000\n",
      "Total Expenses: 1000\n",
      "Remaining Savings: 49000\n",
      "\n",
      "--- Expense Tracker ---\n",
      "1: To add Expenses\n",
      "2: To View Savings\n",
      "3: To View Expenses\n",
      "0: To Exit\n"
     ]
    },
    {
     "name": "stdin",
     "output_type": "stream",
     "text": [
      "Choose a Number:  3\n"
     ]
    },
    {
     "name": "stdout",
     "output_type": "stream",
     "text": [
      "Date\tIncome\tExpense\tDescription\n",
      "2024-20-20\t50000\t1000\tFood\n",
      "\n",
      "--- Expense Tracker ---\n",
      "1: To add Expenses\n",
      "2: To View Savings\n",
      "3: To View Expenses\n",
      "0: To Exit\n"
     ]
    },
    {
     "name": "stdin",
     "output_type": "stream",
     "text": [
      "Choose a Number:  0\n"
     ]
    },
    {
     "name": "stdout",
     "output_type": "stream",
     "text": [
      "Exiting the program. Goodbye!\n"
     ]
    }
   ],
   "source": [
    "import csv\n",
    "\n",
    "# Fixed income\n",
    "FIXED_INCOME = 50000  # Setting a fixed income of 50,000\n",
    "\n",
    "# Function to add expenses\n",
    "def add_expenses(date, expense, description):\n",
    "    \"\"\"\n",
    "    This function adds an expense entry to the 'Expenses.csv' file.\n",
    "    Each entry contains the date, fixed income, the expense amount, and a description.\n",
    "    \"\"\"\n",
    "    with open(\"Expenses.csv\", 'a', newline=\"\") as file:  # Open the CSV file in append mode\n",
    "        writer = csv.writer(file)  # Create a CSV writer object\n",
    "        writer.writerow([date, FIXED_INCOME, expense, description])  # Write the entry as a new row\n",
    "    print(\"Expense added successfully!\")  # Confirmation message\n",
    "\n",
    "# Function to calculate and view savings\n",
    "def savings():\n",
    "    \"\"\"\n",
    "    This function calculates total expenses from the CSV file and displays the remaining savings.\n",
    "    \"\"\"\n",
    "    try:\n",
    "        with open(\"Expenses.csv\", 'r') as file:  # Open the CSV file in read mode\n",
    "            reader = csv.reader(file)  # Create a CSV reader object\n",
    "            expenses = [int(row[2]) for row in reader]  # Extract expenses (column 2) and convert to integers\n",
    "        total_expenses = sum(expenses)  # Calculate the total of all expenses\n",
    "        total_savings = FIXED_INCOME - total_expenses  # Calculate remaining savings\n",
    "        print(f\"Fixed Income: {FIXED_INCOME}\")  # Display fixed income\n",
    "        print(f\"Total Expenses: {total_expenses}\")  # Display total expenses\n",
    "        print(f\"Remaining Savings: {total_savings}\")  # Display remaining savings\n",
    "    except FileNotFoundError:\n",
    "        print(\"No expenses recorded yet!\")  # Error message if the file is not found\n",
    "\n",
    "# Function to view expenses\n",
    "def view_expenses():\n",
    "    \"\"\"\n",
    "    This function displays all recorded expenses from the CSV file.\n",
    "    \"\"\"\n",
    "    try:\n",
    "        with open(\"Expenses.csv\", 'r') as file:  # Open the CSV file in read mode\n",
    "            reader = csv.reader(file)  # Create a CSV reader object\n",
    "            print(\"Date\\tIncome\\tExpense\\tDescription\")  # Print table headers\n",
    "            for row in reader:  # Iterate through each row in the CSV file\n",
    "                print(\"\\t\".join(row))  # Print the contents of each row, joined by tabs\n",
    "    except FileNotFoundError:\n",
    "        print(\"No expenses recorded yet!\")  # Error message if the file is not found\n",
    "\n",
    "# Main program logic with a loop\n",
    "while True:\n",
    "    \"\"\"\n",
    "    Main menu loop that repeatedly prompts the user for an action until they choose to exit.\n",
    "    \"\"\"\n",
    "    print(\"\\n--- Expense Tracker ---\")\n",
    "    print(\"1: To add Expenses\")\n",
    "    print(\"2: To View Savings\")\n",
    "    print(\"3: To View Expenses\")\n",
    "    print(\"0: To Exit\")\n",
    "\n",
    "    try:\n",
    "        res = int(input(\"Choose a Number: \"))  # Get user input and convert it to an integer\n",
    "    except ValueError:\n",
    "        print(\"Please enter a valid number.\")  # Handle non-integer input\n",
    "        continue  # Restart the loop\n",
    "\n",
    "    if res == 1:\n",
    "        date = input(\"Enter date (YYYY-MM-DD): \")  # Prompt user for the date\n",
    "        try:\n",
    "            expense = int(input(\"Enter your Expenses: \"))  # Prompt user for the expense amount (as an integer)\n",
    "            description = input(\"Enter the description: \")  # Prompt user for a description\n",
    "            add_expenses(date, expense, description)  # Call the function to add the expense\n",
    "        except ValueError:\n",
    "            print(\"Please enter a valid number for expenses.\")  # Handle non-integer expense input\n",
    "\n",
    "    elif res == 2:\n",
    "        savings()  # Call the function to view savings\n",
    "\n",
    "    elif res == 3:\n",
    "        view_expenses()  # Call the function to view expenses\n",
    "\n",
    "    elif res == 0:\n",
    "        print(\"Exiting the program. Goodbye!\")  # Exit message\n",
    "        break  # Break the loop to exit the program\n",
    "\n",
    "    else:\n",
    "        print(\"Enter a valid option.\")  # Error message for invalid menu option\n"
   ]
  },
  {
   "cell_type": "code",
   "execution_count": null,
   "id": "615e9405-34b1-49a0-af45-09cfce7a64d9",
   "metadata": {},
   "outputs": [],
   "source": []
  }
 ],
 "metadata": {
  "kernelspec": {
   "display_name": "Python 3 (ipykernel)",
   "language": "python",
   "name": "python3"
  },
  "language_info": {
   "codemirror_mode": {
    "name": "ipython",
    "version": 3
   },
   "file_extension": ".py",
   "mimetype": "text/x-python",
   "name": "python",
   "nbconvert_exporter": "python",
   "pygments_lexer": "ipython3",
   "version": "3.12.4"
  }
 },
 "nbformat": 4,
 "nbformat_minor": 5
}
